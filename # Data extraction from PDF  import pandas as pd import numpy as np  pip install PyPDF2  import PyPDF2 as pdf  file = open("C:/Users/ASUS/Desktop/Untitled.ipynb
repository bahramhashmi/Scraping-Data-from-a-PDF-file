{
 "cells": [
  {
   "cell_type": "markdown",
   "metadata": {},
   "source": [
    "# Data extraction from PDF"
   ]
  },
  {
   "cell_type": "code",
   "execution_count": 1,
   "metadata": {},
   "outputs": [],
   "source": [
    "import pandas as pd\n",
    "import numpy as np"
   ]
  },
  {
   "cell_type": "code",
   "execution_count": 4,
   "metadata": {},
   "outputs": [
    {
     "name": "stdout",
     "output_type": "stream",
     "text": [
      "Collecting PyPDF2Note: you may need to restart the kernel to use updated packages.\n",
      "  Downloading PyPDF2-1.26.0.tar.gz (77 kB)\n",
      "Building wheels for collected packages: PyPDF2\n",
      "  Building wheel for PyPDF2 (setup.py): started\n",
      "  Building wheel for PyPDF2 (setup.py): finished with status 'done'\n",
      "  Created wheel for PyPDF2: filename=PyPDF2-1.26.0-py3-none-any.whl size=61087 sha256=14ae12c5800b9713d2d6eedc454e555439bfb861ea066566b491538d6d308688\n",
      "  Stored in directory: c:\\users\\asus\\appdata\\local\\pip\\cache\\wheels\\b1\\1a\\8f\\a4c34be976825a2f7948d0fa40907598d69834f8ab5889de11\n",
      "Successfully built PyPDF2\n",
      "Installing collected packages: PyPDF2\n",
      "Successfully installed PyPDF2-1.26.0\n",
      "\n"
     ]
    }
   ],
   "source": [
    "pip install PyPDF2"
   ]
  },
  {
   "cell_type": "code",
   "execution_count": 5,
   "metadata": {},
   "outputs": [],
   "source": [
    "import PyPDF2 as pdf"
   ]
  },
  {
   "cell_type": "code",
   "execution_count": 8,
   "metadata": {},
   "outputs": [],
   "source": [
    "file = open(\"C:/Users/ASUS/Desktop/bihar_election.pdf\",\"rb\")"
   ]
  },
  {
   "cell_type": "code",
   "execution_count": 9,
   "metadata": {},
   "outputs": [],
   "source": [
    "pd=pdf.PdfFileReader(file)"
   ]
  },
  {
   "cell_type": "code",
   "execution_count": 10,
   "metadata": {},
   "outputs": [],
   "source": [
    "x=pd.getPage(0)"
   ]
  },
  {
   "cell_type": "code",
   "execution_count": 12,
   "metadata": {},
   "outputs": [
    {
     "name": "stdout",
     "output_type": "stream",
     "text": [
      "It was a debacle for pollsters, when most opinion polls failed to predict a landslide victory in the \n",
      "2015 Bihar assembly elections for the mahagathbandhan. A majority of them even predicted the \n",
      "wrong winner. The average of 13 opinion poll results showed 11\n",
      "3.5 (out of 243) seats for the \n",
      "Janata Dal (United), Rashtriya Janata Dal and Congress combined \n",
      "\n",
      " \n",
      "a whopping 26.5% error, \n",
      "as these parties bagged 178 seats in total. While opinion polls go horribly wrong in numerous \n",
      "elections worldwide, this was\n",
      " \n",
      "a horrendous perfor\n",
      "mance by any standard.\n",
      " \n",
      "The number of available opinion polls for Bihar maybe less this time around; the 2015 blunder \n",
      "may be one reason for such temperance. To keep the error of any survey\n",
      "-\n",
      "based statistical \n",
      "estimation within reasonable limits \n",
      "\n",
      " \n",
      "and to estimate the qua\n",
      "ntum of possible error \n",
      "\n",
      " \n",
      "one must \n",
      "design, implement and carry out the subsequent inference with due care. Public disclosures of \n",
      "sampling method, sample profile and method used to convert votes into seats being typically \n",
      "unavailable in most election surveys\n",
      " \n",
      "do most\n",
      " \n",
      "pollsters in India conduct their polls following \n",
      "appropriate statistical theory?\n",
      " \n",
      "\n",
      "chance that the poll survey result will be within 3% of the actual election result. It c\n",
      "an be shown \n",
      "that, in a homogeneous set\n",
      "-\n",
      "up, only 1,004 samples can achieve this, irrespective of the \n",
      "\n",
      "approximately maintaining the population proportions across gender,\n",
      " \n",
      "age, income, religion, \n",
      "caste, etc.\n",
      " \n",
      "\n",
      "-\n",
      "party democracy, however, make this task daunting. \n",
      "Constituencies being widely heterogeneous, ideally, one needs 1,004 samples in each \n",
      "constituency. Some similar\n",
      "-\n",
      "behaving constituencies \n",
      "may, however, be clubbed together to frame \n",
      "different homogeneous populations to reduce the sample size\n",
      " \n",
      "The above calculation corresponds to vote shares only. The situation becomes much more \n",
      "complicated in a first\n",
      "-\n",
      "past\n",
      "-\n",
      "the\n",
      "-\n",
      "post (FPTP) system like ours, where the numbe\n",
      "r of seats has a \n",
      "very complicated non\n",
      "-\n",
      "linear relationship with vote shares, which is much more difficult to \n",
      "estimate. The 2016 US presidential election is a classic example how a crashing defeat in the \n",
      "electoral college may happen despite a 2.1% lead in po\n",
      "pular votes. Hillary Clinton can vouch for \n",
      "that\n",
      ".\n",
      " \n",
      " \n",
      " \n",
      " \n",
      "\n"
     ]
    }
   ],
   "source": [
    "print(x.extractText())"
   ]
  },
  {
   "cell_type": "code",
   "execution_count": null,
   "metadata": {},
   "outputs": [],
   "source": []
  }
 ],
 "metadata": {
  "kernelspec": {
   "display_name": "Python 3",
   "language": "python",
   "name": "python3"
  },
  "language_info": {
   "codemirror_mode": {
    "name": "ipython",
    "version": 3
   },
   "file_extension": ".py",
   "mimetype": "text/x-python",
   "name": "python",
   "nbconvert_exporter": "python",
   "pygments_lexer": "ipython3",
   "version": "3.8.3"
  }
 },
 "nbformat": 4,
 "nbformat_minor": 4
}
